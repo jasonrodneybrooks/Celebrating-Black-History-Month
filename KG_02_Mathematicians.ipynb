{
 "cells": [
  {
   "cell_type": "code",
   "execution_count": 3,
   "metadata": {},
   "outputs": [
    {
     "name": "stdout",
     "output_type": "stream",
     "text": [
      "Pandas Version 1.1.3\n"
     ]
    }
   ],
   "source": [
    "import pandas as pd\n",
    "import numpy as np\n",
    "import seaborn as sns\n",
    "import nltk\n",
    "import requests\n",
    "from bs4 import BeautifulSoup as bs\n",
    "\n",
    "print(\"Pandas Version\", pd.__version__)"
   ]
  },
  {
   "cell_type": "code",
   "execution_count": 4,
   "metadata": {},
   "outputs": [],
   "source": [
    "#Requests\n",
    "r = requests.get(\"https://en.wikipedia.org/wiki/List_of_African-American_mathematicians\")\n",
    "\n",
    "#Convert to bs object\n",
    "soup = bs(r.content)"
   ]
  },
  {
   "cell_type": "code",
   "execution_count": 5,
   "metadata": {},
   "outputs": [
    {
     "data": {
      "text/plain": [
       "'List of African-American mathematicians - Wikipedia'"
      ]
     },
     "execution_count": 5,
     "metadata": {},
     "output_type": "execute_result"
    }
   ],
   "source": [
    "soup.title.text"
   ]
  },
  {
   "cell_type": "code",
   "execution_count": 6,
   "metadata": {},
   "outputs": [
    {
     "data": {
      "text/html": [
       "<div>\n",
       "<style scoped>\n",
       "    .dataframe tbody tr th:only-of-type {\n",
       "        vertical-align: middle;\n",
       "    }\n",
       "\n",
       "    .dataframe tbody tr th {\n",
       "        vertical-align: top;\n",
       "    }\n",
       "\n",
       "    .dataframe thead th {\n",
       "        text-align: right;\n",
       "    }\n",
       "</style>\n",
       "<table border=\"1\" class=\"dataframe\">\n",
       "  <thead>\n",
       "    <tr style=\"text-align: right;\">\n",
       "      <th></th>\n",
       "      <th>Year</th>\n",
       "      <th>Gender</th>\n",
       "      <th>Name</th>\n",
       "      <th>Awarded by</th>\n",
       "      <th>Dissertation title</th>\n",
       "      <th>Ref.</th>\n",
       "      <th>Degree</th>\n",
       "    </tr>\n",
       "  </thead>\n",
       "  <tbody>\n",
       "    <tr>\n",
       "      <th>0</th>\n",
       "      <td>1925</td>\n",
       "      <td>(M)</td>\n",
       "      <td>Elbert Frank Cox</td>\n",
       "      <td>Cornell University</td>\n",
       "      <td>The polynomial solutions of the difference equ...</td>\n",
       "      <td>[39]</td>\n",
       "      <td>Phd</td>\n",
       "    </tr>\n",
       "    <tr>\n",
       "      <th>1</th>\n",
       "      <td>1928</td>\n",
       "      <td>(M)</td>\n",
       "      <td>Dudley Weldon Woodard</td>\n",
       "      <td>University of Pennsylvania</td>\n",
       "      <td>On two-dimensional analysis situs with special...</td>\n",
       "      <td>[40]</td>\n",
       "      <td>Phd</td>\n",
       "    </tr>\n",
       "    <tr>\n",
       "      <th>2</th>\n",
       "      <td>1933</td>\n",
       "      <td>(M)</td>\n",
       "      <td>William Schieffelin Claytor</td>\n",
       "      <td>University of Pennsylvania</td>\n",
       "      <td>Topological immersion of peanian continua in a...</td>\n",
       "      <td>[41][42]</td>\n",
       "      <td>Phd</td>\n",
       "    </tr>\n",
       "    <tr>\n",
       "      <th>3</th>\n",
       "      <td>1934</td>\n",
       "      <td>(M)</td>\n",
       "      <td>Walter Richard Talbot</td>\n",
       "      <td>University of Pittsburgh</td>\n",
       "      <td>Fundamental regions in S6 for the simple quate...</td>\n",
       "      <td>[43]</td>\n",
       "      <td>Phd</td>\n",
       "    </tr>\n",
       "    <tr>\n",
       "      <th>4</th>\n",
       "      <td>1938</td>\n",
       "      <td>(M)</td>\n",
       "      <td>Reubin Roosevelt McDaniel</td>\n",
       "      <td>Cornell University</td>\n",
       "      <td>Approximation to algebraic numbers by means of...</td>\n",
       "      <td>[44]</td>\n",
       "      <td>Phd</td>\n",
       "    </tr>\n",
       "  </tbody>\n",
       "</table>\n",
       "</div>"
      ],
      "text/plain": [
       "   Year Gender                         Name                  Awarded by  \\\n",
       "0  1925    (M)             Elbert Frank Cox          Cornell University   \n",
       "1  1928    (M)        Dudley Weldon Woodard  University of Pennsylvania   \n",
       "2  1933    (M)  William Schieffelin Claytor  University of Pennsylvania   \n",
       "3  1934    (M)        Walter Richard Talbot    University of Pittsburgh   \n",
       "4  1938    (M)    Reubin Roosevelt McDaniel          Cornell University   \n",
       "\n",
       "                                  Dissertation title      Ref. Degree  \n",
       "0  The polynomial solutions of the difference equ...      [39]    Phd  \n",
       "1  On two-dimensional analysis situs with special...      [40]    Phd  \n",
       "2  Topological immersion of peanian continua in a...  [41][42]    Phd  \n",
       "3  Fundamental regions in S6 for the simple quate...      [43]    Phd  \n",
       "4  Approximation to algebraic numbers by means of...      [44]    Phd  "
      ]
     },
     "execution_count": 6,
     "metadata": {},
     "output_type": "execute_result"
    }
   ],
   "source": [
    "#Scraping the first table of Math Phds\n",
    "table = soup.find_all(\"table\", attrs = {'class': 'wikitable'})[2]\n",
    "phd = pd.read_html(str(table))[0]\n",
    "phd['Degree'] = 'Phd'\n",
    "phd.head()"
   ]
  },
  {
   "cell_type": "code",
   "execution_count": 7,
   "metadata": {},
   "outputs": [
    {
     "data": {
      "text/html": [
       "<div>\n",
       "<style scoped>\n",
       "    .dataframe tbody tr th:only-of-type {\n",
       "        vertical-align: middle;\n",
       "    }\n",
       "\n",
       "    .dataframe tbody tr th {\n",
       "        vertical-align: top;\n",
       "    }\n",
       "\n",
       "    .dataframe thead th {\n",
       "        text-align: right;\n",
       "    }\n",
       "</style>\n",
       "<table border=\"1\" class=\"dataframe\">\n",
       "  <thead>\n",
       "    <tr style=\"text-align: right;\">\n",
       "      <th></th>\n",
       "      <th>Year</th>\n",
       "      <th>Gender</th>\n",
       "      <th>Name</th>\n",
       "      <th>Awarded by</th>\n",
       "      <th>Dissertation title</th>\n",
       "      <th>Ref.</th>\n",
       "      <th>Degree</th>\n",
       "    </tr>\n",
       "  </thead>\n",
       "  <tbody>\n",
       "    <tr>\n",
       "      <th>0</th>\n",
       "      <td>1942</td>\n",
       "      <td>(M)</td>\n",
       "      <td>Socrates Walter Saunders</td>\n",
       "      <td>University of Pittsburgh</td>\n",
       "      <td>Legal aspects of the education of Negroes with...</td>\n",
       "      <td>[163]</td>\n",
       "      <td>Math Ed</td>\n",
       "    </tr>\n",
       "    <tr>\n",
       "      <th>1</th>\n",
       "      <td>1947</td>\n",
       "      <td>(F)</td>\n",
       "      <td>Ethel M. Turner</td>\n",
       "      <td>Columbia University</td>\n",
       "      <td>Consumer mathematics in adult education</td>\n",
       "      <td>[164]</td>\n",
       "      <td>Math Ed</td>\n",
       "    </tr>\n",
       "    <tr>\n",
       "      <th>2</th>\n",
       "      <td>1950</td>\n",
       "      <td>(M)</td>\n",
       "      <td>Caldwell Elwood Boulware</td>\n",
       "      <td>Columbia University</td>\n",
       "      <td>The emerging concept of mental arithmetic</td>\n",
       "      <td>[165]</td>\n",
       "      <td>Math Ed</td>\n",
       "    </tr>\n",
       "    <tr>\n",
       "      <th>3</th>\n",
       "      <td>1951</td>\n",
       "      <td>(M)</td>\n",
       "      <td>Theodore A Love</td>\n",
       "      <td>New York University</td>\n",
       "      <td>The relation of achievement in mathematics to ...</td>\n",
       "      <td>[166]</td>\n",
       "      <td>Math Ed</td>\n",
       "    </tr>\n",
       "    <tr>\n",
       "      <th>4</th>\n",
       "      <td>1954</td>\n",
       "      <td>(F)</td>\n",
       "      <td>Angie Turner King</td>\n",
       "      <td>University of Pittsburgh</td>\n",
       "      <td>An analysis of early algebra textbooks used in...</td>\n",
       "      <td>[167]</td>\n",
       "      <td>Math Ed</td>\n",
       "    </tr>\n",
       "  </tbody>\n",
       "</table>\n",
       "</div>"
      ],
      "text/plain": [
       "   Year Gender                      Name                Awarded by  \\\n",
       "0  1942    (M)  Socrates Walter Saunders  University of Pittsburgh   \n",
       "1  1947    (F)           Ethel M. Turner       Columbia University   \n",
       "2  1950    (M)  Caldwell Elwood Boulware       Columbia University   \n",
       "3  1951    (M)           Theodore A Love       New York University   \n",
       "4  1954    (F)         Angie Turner King  University of Pittsburgh   \n",
       "\n",
       "                                  Dissertation title   Ref.   Degree  \n",
       "0  Legal aspects of the education of Negroes with...  [163]  Math Ed  \n",
       "1            Consumer mathematics in adult education  [164]  Math Ed  \n",
       "2          The emerging concept of mental arithmetic  [165]  Math Ed  \n",
       "3  The relation of achievement in mathematics to ...  [166]  Math Ed  \n",
       "4  An analysis of early algebra textbooks used in...  [167]  Math Ed  "
      ]
     },
     "execution_count": 7,
     "metadata": {},
     "output_type": "execute_result"
    }
   ],
   "source": [
    "#Find those with degrees in Math Education\n",
    "table = soup.find_all(\"table\", attrs = {'class': 'wikitable'})[4]\n",
    "math_ed = pd.read_html(str(table))[0]\n",
    "math_ed['Degree'] = 'Math Ed'\n",
    "math_ed.head()"
   ]
  },
  {
   "cell_type": "code",
   "execution_count": 8,
   "metadata": {},
   "outputs": [
    {
     "name": "stdout",
     "output_type": "stream",
     "text": [
      "There were 117 African_Americans who earned their Phds in Mathematics between 1925 to 1975.\n",
      "There were 38 African_Americans who earned their Phds in Mathematics Education between 1925 to 1975.\n"
     ]
    }
   ],
   "source": [
    "#Reporting out findings\n",
    "print(f'There were {len(phd)} African_Americans who earned their Phds in Mathematics between 1925 to 1975.')\n",
    "print(f'There were {len(math_ed)} African_Americans who earned their Phds in Mathematics Education between 1925 to 1975.')"
   ]
  },
  {
   "cell_type": "code",
   "execution_count": 9,
   "metadata": {},
   "outputs": [],
   "source": [
    "#Concatenating the two dataframes\n",
    "df = pd.concat([phd, math_ed])\n",
    "\n",
    "# df = df.drop(columns = ['Ref.'])\n",
    "df.head()\n",
    "df.to_csv(\"African_American_Mathematicians.csv\")"
   ]
  },
  {
   "cell_type": "code",
   "execution_count": 10,
   "metadata": {},
   "outputs": [
    {
     "data": {
      "text/plain": [
       "Socrates Walter Saunders    2\n",
       "Elbert Frank Cox            1\n",
       "Wendell Primus Jones        1\n",
       "Ethel M. Turner             1\n",
       "Lonnie Williams Keith       1\n",
       "Name: Name, dtype: int64"
      ]
     },
     "execution_count": 10,
     "metadata": {},
     "output_type": "execute_result"
    }
   ],
   "source": [
    "#Checking to see the \n",
    "#Socrates Walter Saunders earned 2 Math Phds; one in 1942 and in 1962\n",
    "df['Name'].value_counts().head(5)"
   ]
  },
  {
   "cell_type": "code",
   "execution_count": 11,
   "metadata": {},
   "outputs": [
    {
     "data": {
      "text/plain": [
       "Phd        117\n",
       "Math Ed     38\n",
       "Name: Degree, dtype: int64"
      ]
     },
     "execution_count": 11,
     "metadata": {},
     "output_type": "execute_result"
    }
   ],
   "source": [
    "#How many were Math Education degrees vs. PhDs\n",
    "df['Degree'].value_counts()"
   ]
  },
  {
   "cell_type": "code",
   "execution_count": 14,
   "metadata": {},
   "outputs": [
    {
     "data": {
      "text/plain": [
       "Gender\n",
       "(F)     30\n",
       "(M)    125\n",
       "Name: Degree, dtype: int64"
      ]
     },
     "execution_count": 14,
     "metadata": {},
     "output_type": "execute_result"
    }
   ],
   "source": [
    "#Doctoral degree by gender\n",
    "df.groupby(['Gender'])['Degree'].count()"
   ]
  },
  {
   "cell_type": "code",
   "execution_count": 19,
   "metadata": {},
   "outputs": [
    {
     "data": {
      "text/plain": [
       "10"
      ]
     },
     "execution_count": 19,
     "metadata": {},
     "output_type": "execute_result"
    }
   ],
   "source": [
    "#What were the universities who awarded the most degrees to AA mathematicians\n",
    "most_common_univ = df['Awarded by'].value_counts().head(20)\n",
    "most_common_univ"
   ]
  },
  {
   "cell_type": "code",
   "execution_count": 26,
   "metadata": {},
   "outputs": [
    {
     "name": "stdout",
     "output_type": "stream",
     "text": [
      "Oklahoma State University awarded 10 advanced degrees to Black Mathematicians.\n",
      "\n",
      "University of Michigan awarded 10 advanced degrees to Black Mathematicians.\n",
      "\n",
      "University of Illinois awarded 9 advanced degrees to Black Mathematicians.\n",
      "\n",
      "University of Pittsburgh awarded 7 advanced degrees to Black Mathematicians.\n",
      "\n",
      "Cornell University awarded 6 advanced degrees to Black Mathematicians.\n",
      "\n",
      "University of Chicago awarded 6 advanced degrees to Black Mathematicians.\n",
      "\n",
      "Ohio State University awarded 6 advanced degrees to Black Mathematicians.\n",
      "\n",
      "University of California, Berkeley awarded 6 advanced degrees to Black Mathematicians.\n",
      "\n",
      "University of Pennsylvania awarded 5 advanced degrees to Black Mathematicians.\n",
      "\n",
      "Pennsylvania State University awarded 5 advanced degrees to Black Mathematicians.\n",
      "\n",
      "University of Texas awarded 5 advanced degrees to Black Mathematicians.\n",
      "\n",
      "Columbia University awarded 5 advanced degrees to Black Mathematicians.\n",
      "\n",
      "Purdue University awarded 5 advanced degrees to Black Mathematicians.\n",
      "\n",
      "New York University awarded 5 advanced degrees to Black Mathematicians.\n",
      "\n",
      "Syracuse University awarded 4 advanced degrees to Black Mathematicians.\n",
      "\n",
      "Catholic University of America awarded 3 advanced degrees to Black Mathematicians.\n",
      "\n",
      "University of Maryland awarded 3 advanced degrees to Black Mathematicians.\n",
      "\n",
      "Harvard University awarded 3 advanced degrees to Black Mathematicians.\n",
      "\n",
      "Case Western University awarded 2 advanced degrees to Black Mathematicians.\n",
      "\n",
      "University of North Carolina awarded 2 advanced degrees to Black Mathematicians.\n",
      "\n"
     ]
    }
   ],
   "source": [
    "#Which universities awarded the most degrees to Black Mathematicians\n",
    "for i, j in zip(most_common_univ.index, most_common_univ):\n",
    "    if j == 1:\n",
    "        print(f\"{i} awarded {j} advanced degrees to Black Mathematicians.\\n\")\n",
    "    else:\n",
    "        print(f\"{i} awarded {j} advanced degrees to Black Mathematicians.\\n\")"
   ]
  },
  {
   "cell_type": "code",
   "execution_count": 16,
   "metadata": {},
   "outputs": [
    {
     "name": "stdout",
     "output_type": "stream",
     "text": [
      "20\n"
     ]
    }
   ],
   "source": [
    "print(f'{len(most_common_univ)}')"
   ]
  },
  {
   "cell_type": "code",
   "execution_count": 18,
   "metadata": {},
   "outputs": [],
   "source": [
    "#'''This analysis is not to ignore the important and fundamental work done by HBCU's where an overwhelming number of people on this list \n",
    "#received their undergrad training\n",
    "#'''Male versus female\n",
    "#Which universities, for males, for females?\n",
    "#Ivy league vs non-ivies\n",
    "#Dissertation title - areas?\n",
    "#Add area? geometry, algebra?\n",
    "#Name? \n",
    "#Year\n",
    "#Geography?\n",
    "#Folium Map to where they are?"
   ]
  }
 ],
 "metadata": {
  "kernelspec": {
   "display_name": "Python 3",
   "language": "python",
   "name": "python3"
  },
  "language_info": {
   "codemirror_mode": {
    "name": "ipython",
    "version": 3
   },
   "file_extension": ".py",
   "mimetype": "text/x-python",
   "name": "python",
   "nbconvert_exporter": "python",
   "pygments_lexer": "ipython3",
   "version": "3.8.3"
  }
 },
 "nbformat": 4,
 "nbformat_minor": 4
}
